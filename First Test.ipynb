{
 "cells": [
  {
   "cell_type": "code",
   "execution_count": 0,
   "metadata": {
    "application/vnd.databricks.v1+cell": {
     "cellMetadata": {
      "byteLimit": 2048000,
      "rowLimit": 10000
     },
     "inputWidgets": {},
     "nuid": "c2e0cc9e-1b05-4829-807a-1557e5617771",
     "showTitle": false,
     "tableResultSettingsMap": {},
     "title": ""
    }
   },
   "outputs": [],
   "source": [
    "# List of essential Databricks commands with descriptions and demos\n",
    "\n",
    "# 1. %fs: File System commands\n",
    "# Description: Used to interact with the Databricks File System (DBFS).\n",
    "# Demo:\n",
    "# %fs ls /mnt/data\n",
    "\n",
    "# 2. %sql: SQL commands\n",
    "# Description: Used to run SQL queries.\n",
    "# Demo:\n",
    "# %sql\n",
    "# SELECT * FROM table_name\n",
    "\n",
    "# 3. %md: Markdown\n",
    "# Description: Used to render Markdown in a notebook.\n",
    "# Demo:\n",
    "# %md\n",
    "# # This is a Markdown cell\n",
    "\n",
    "# 4. %sh: Shell commands\n",
    "# Description: Used to run shell commands.\n",
    "# Demo:\n",
    "# %sh\n",
    "# ls -l\n",
    "\n",
    "# 5. %pip: Install Python packages\n",
    "# Description: Used to install Python packages.\n",
    "# Demo:\n",
    "# %pip install pandas\n",
    "\n",
    "# 6. display(): Display DataFrames\n",
    "# Description: Used to display DataFrames in a rich format.\n",
    "# Demo:\n",
    "# df = spark.read.csv(\"/mnt/data/file.csv\")\n",
    "# display(df)\n",
    "\n",
    "# 7. dbutils: Databricks Utilities\n",
    "# Description: Used to perform various utility operations.\n",
    "# Demo:\n",
    "# dbutils.fs.help()  # Shows help for file system utilities"
   ]
  },
  {
   "cell_type": "code",
   "execution_count": 0,
   "metadata": {
    "application/vnd.databricks.v1+cell": {
     "cellMetadata": {},
     "inputWidgets": {},
     "nuid": "23897fa4-ddad-4913-bed7-2968bb59d58b",
     "showTitle": false,
     "tableResultSettingsMap": {},
     "title": ""
    }
   },
   "outputs": [],
   "source": [
    "# Basic PySpark Commands Demo\n",
    "\n",
    "# 1. Reading a CSV file into a DataFrame\n",
    "df = spark.read.csv(\"/mnt/data/sample.csv\", header=True, inferSchema=True)\n",
    "\n",
    "# 2. Displaying the DataFrame\n",
    "display(df)\n",
    "\n",
    "# 3. Showing the schema of the DataFrame\n",
    "df.printSchema()\n",
    "\n",
    "# 4. Selecting specific columns\n",
    "selected_df = df.select(\"column1\", \"column2\")\n",
    "display(selected_df)\n",
    "\n",
    "# 5. Filtering rows based on a condition\n",
    "filtered_df = df.filter(df[\"column1\"] > 100)\n",
    "display(filtered_df)\n",
    "\n",
    "# 6. Grouping by a column and performing aggregation\n",
    "grouped_df = df.groupBy(\"column1\").agg({\"column2\": \"sum\"})\n",
    "display(grouped_df)\n",
    "\n",
    "# 7. Writing the DataFrame to a Parquet file\n",
    "df.write.parquet(\"/mnt/data/output.parquet\")"
   ]
  }
 ],
 "metadata": {
  "application/vnd.databricks.v1+notebook": {
   "computePreferences": null,
   "dashboards": [],
   "environmentMetadata": {
    "base_environment": "",
    "environment_version": "2"
   },
   "inputWidgetPreferences": null,
   "language": "python",
   "notebookMetadata": {
    "pythonIndentUnit": 4
   },
   "notebookName": "First Test",
   "widgets": {}
  },
  "language_info": {
   "name": "python"
  }
 },
 "nbformat": 4,
 "nbformat_minor": 0
}
